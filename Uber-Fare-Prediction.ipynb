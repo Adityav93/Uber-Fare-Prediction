{
 "cells": [
  {
   "cell_type": "markdown",
   "metadata": {},
   "source": [
    "DESCRIPTION\n",
    "\n",
    "Project Objective: \n",
    "Design an algorithm which will tell the fare to be charged for a passenger.\n",
    "\n",
    "Problem Statement Scenario: \n",
    "A fare calculator helps a customer in identifying the fare valid for the trip. They are often used by passengers who are new to a city or tourists to get an estimate of travel costs.\n",
    "You are provided with a dataset with features like fare amount, pickup and drop location, passenger count, and so on.\n",
    "Following actions should be performed:\n",
    "    \n",
    "    1. Understand the type of data.\n",
    "    2. Identify the output variable.\n",
    "    3. Identify the factors which affect the output variable.\n",
    "    4. Check if there are any biases in your dataset.\n",
    "    5. Count the null values existing in columns.\n",
    "    6. Remove the null value rows in the target variable.\n",
    "    7. Perform train test split.\n",
    "    8. Predict the accuracy using regression models.\n",
    "    9. Check and compare the accuracy of the different models."
   ]
  },
  {
   "cell_type": "code",
   "execution_count": 35,
   "metadata": {},
   "outputs": [],
   "source": [
    "import pandas as pd\n",
    "import matplotlib.pyplot as plt\n",
    "import seaborn as sns; sns.set()\n",
    "import geopy.distance\n",
    "from sklearn.linear_model import LinearRegression\n",
    "from sklearn.metrics import r2_score, mean_squared_error\n",
    "from sklearn import model_selection\n",
    "from sklearn.preprocessing import PolynomialFeatures\n",
    "from math import sqrt\n",
    "from sklearn.preprocessing import StandardScaler\n",
    "import random\n",
    "import os\n",
    "from tqdm import tqdm\n",
    "import matplotlib.pyplot as plt\n",
    "import datetime\n",
    "from multiprocessing import pool\n",
    "from geopy.geocoders import Nominatim\n",
    "from sklearn.preprocessing import scale \n",
    "from sklearn.model_selection import train_test_split\n",
    "from sklearn.linear_model import Ridge, RidgeCV, Lasso, LassoCV\n",
    "from sklearn.metrics import mean_squared_error\n",
    "from sklearn.ensemble import RandomForestRegressor\n",
    "from geopy.geocoders import Nominatim\n",
    "import numpy as np\n",
    "from sklearn.model_selection import cross_val_score\n",
    "\n",
    "TRAIN_PATH = r'C:\\Users\\adity\\Documents\\Machine-Learning--Projects-master\\Projects\\Course End Projects\\Project 9.1 - Uber Fare Prediction\\train.csv'\n",
    "TEST_PATH = r'C:\\Users\\adity\\Documents\\Machine-Learning--Projects-master\\Projects\\Course End Projects\\Project 9.1 - Uber Fare Prediction\\test.csv'"
   ]
  },
  {
   "cell_type": "code",
   "execution_count": 2,
   "metadata": {},
   "outputs": [],
   "source": [
    "# Set columns to most suitable type to optimize for memory usage\n",
    "traintypes = {'fare_amount': 'float32',\n",
    "              'pickup_datetime': 'str', \n",
    "              'pickup_longitude': 'float32',\n",
    "              'pickup_latitude': 'float32',\n",
    "              'dropoff_longitude': 'float32',\n",
    "              'dropoff_latitude': 'float32',\n",
    "              'passenger_count': 'uint8'}\n",
    "\n",
    "cols = list(traintypes.keys())"
   ]
  },
  {
   "cell_type": "code",
   "execution_count": 3,
   "metadata": {},
   "outputs": [],
   "source": [
    "chunksize = 10000"
   ]
  },
  {
   "cell_type": "code",
   "execution_count": 4,
   "metadata": {},
   "outputs": [
    {
     "name": "stderr",
     "output_type": "stream",
     "text": [
      "10it [05:57, 35.76s/it]\n"
     ]
    }
   ],
   "source": [
    "n = sum(1 for line in open(TRAIN_PATH)) - 1 #number of records in file (excludes header)\n",
    "s = 100000 #desired sample size\n",
    "skip = sorted(random.sample(range(1,n+1),n-s)) #the 0-indexed header will not be included in the skip list\n",
    "df_list = [] # list to hold the batch dataframe\n",
    "i = 0\n",
    "distance = pd.Series(dtype=\"float32\")\n",
    "for df_chunk in tqdm(pd.read_csv(TRAIN_PATH, usecols=cols, dtype=traintypes, chunksize=chunksize, skiprows=skip)):\n",
    "    \n",
    "    df_chunk['pickup_datetime'] = df_chunk['pickup_datetime'].str.slice(0, 16)\n",
    "    df_chunk['pickup_datetime'] = pd.to_datetime(df_chunk['pickup_datetime'], utc=True, format='%Y-%m-%d %H:%M')\n",
    "    \n",
    "    #drop rows with na values\n",
    "    #drop rows having fare < 0\n",
    "    #drop rows having abs(latitude) > 90 and abs(longitude) > 180\n",
    "    df_chunk.dropna(axis=0,how='any',inplace=True)\n",
    "    df_chunk = df_chunk[~ (df_chunk.fare_amount < 0)]\n",
    "    df_chunk = df_chunk[~((abs(df_chunk['pickup_latitude']) > 90) | (abs(df_chunk['dropoff_latitude']) > 90) | \n",
    "                         (abs(df_chunk['pickup_longitude']) > 180) | (abs(df_chunk['dropoff_longitude']) > 180))]\n",
    "    \n",
    "    #create column Distance, based on coordinates\n",
    "    for lat1,long1,lat2,long2 in zip(df_chunk['pickup_latitude'],df_chunk['pickup_longitude'],df_chunk['dropoff_latitude'],df_chunk['dropoff_longitude']):\n",
    "        coord_1 = (lat1,long1)\n",
    "        coord_2 = (lat2,long2)\n",
    "        dist    = geopy.distance.distance(coord_1,coord_2).km\n",
    "        df_chunk.loc[((df_chunk['pickup_latitude'] == lat1) & (df_chunk['pickup_longitude'] == long1) &\n",
    "                      (df_chunk['dropoff_latitude'] == lat2) & (df_chunk['dropoff_longitude'] == long2)),\"Distance\"] = dist\n",
    "        \n",
    "    df_chunk['is_weekday'] = 0\n",
    "    for idx in df_chunk.index:\n",
    "        if df_chunk.pickup_datetime.loc[idx].weekday() < 5 :\n",
    "            df_chunk.loc[idx,'is_weekday'] = 1\n",
    "    \n",
    "    # append the chunk to list and merge all\n",
    "    df_list.append(df_chunk)\n",
    "    i+=1"
   ]
  },
  {
   "cell_type": "code",
   "execution_count": 5,
   "metadata": {},
   "outputs": [
    {
     "name": "stdout",
     "output_type": "stream",
     "text": [
      "<class 'pandas.core.frame.DataFrame'>\n",
      "Int64Index: 99993 entries, 0 to 99999\n",
      "Data columns (total 9 columns):\n",
      " #   Column             Non-Null Count  Dtype              \n",
      "---  ------             --------------  -----              \n",
      " 0   fare_amount        99993 non-null  float32            \n",
      " 1   pickup_datetime    99993 non-null  datetime64[ns, UTC]\n",
      " 2   pickup_longitude   99993 non-null  float32            \n",
      " 3   pickup_latitude    99993 non-null  float32            \n",
      " 4   dropoff_longitude  99993 non-null  float32            \n",
      " 5   dropoff_latitude   99993 non-null  float32            \n",
      " 6   passenger_count    99993 non-null  uint8              \n",
      " 7   Distance           99993 non-null  float64            \n",
      " 8   is_weekday         99993 non-null  int64              \n",
      "dtypes: datetime64[ns, UTC](1), float32(5), float64(1), int64(1), uint8(1)\n",
      "memory usage: 5.1 MB\n"
     ]
    }
   ],
   "source": [
    "train_df = pd.concat(df_list)\n",
    "\n",
    "# Delete the dataframe list to release memory\n",
    "del df_list\n",
    "\n",
    "# See what we have loaded\n",
    "train_df.info()"
   ]
  },
  {
   "cell_type": "code",
   "execution_count": 6,
   "metadata": {},
   "outputs": [
    {
     "data": {
      "text/html": [
       "<div>\n",
       "<style scoped>\n",
       "    .dataframe tbody tr th:only-of-type {\n",
       "        vertical-align: middle;\n",
       "    }\n",
       "\n",
       "    .dataframe tbody tr th {\n",
       "        vertical-align: top;\n",
       "    }\n",
       "\n",
       "    .dataframe thead th {\n",
       "        text-align: right;\n",
       "    }\n",
       "</style>\n",
       "<table border=\"1\" class=\"dataframe\">\n",
       "  <thead>\n",
       "    <tr style=\"text-align: right;\">\n",
       "      <th></th>\n",
       "      <th>fare_amount</th>\n",
       "      <th>pickup_datetime</th>\n",
       "      <th>pickup_longitude</th>\n",
       "      <th>pickup_latitude</th>\n",
       "      <th>dropoff_longitude</th>\n",
       "      <th>dropoff_latitude</th>\n",
       "      <th>passenger_count</th>\n",
       "      <th>Distance</th>\n",
       "      <th>is_weekday</th>\n",
       "    </tr>\n",
       "  </thead>\n",
       "  <tbody>\n",
       "    <tr>\n",
       "      <th>0</th>\n",
       "      <td>7.3</td>\n",
       "      <td>2010-05-03 20:30:00+00:00</td>\n",
       "      <td>-73.976540</td>\n",
       "      <td>40.755760</td>\n",
       "      <td>-73.959457</td>\n",
       "      <td>40.763329</td>\n",
       "      <td>1</td>\n",
       "      <td>1.669421</td>\n",
       "      <td>1</td>\n",
       "    </tr>\n",
       "    <tr>\n",
       "      <th>1</th>\n",
       "      <td>8.5</td>\n",
       "      <td>2014-03-26 01:43:00+00:00</td>\n",
       "      <td>-73.973747</td>\n",
       "      <td>40.753689</td>\n",
       "      <td>-73.950821</td>\n",
       "      <td>40.782818</td>\n",
       "      <td>1</td>\n",
       "      <td>3.769673</td>\n",
       "      <td>1</td>\n",
       "    </tr>\n",
       "    <tr>\n",
       "      <th>2</th>\n",
       "      <td>8.1</td>\n",
       "      <td>2011-02-02 10:48:00+00:00</td>\n",
       "      <td>-73.980515</td>\n",
       "      <td>40.730530</td>\n",
       "      <td>-74.003616</td>\n",
       "      <td>40.722664</td>\n",
       "      <td>1</td>\n",
       "      <td>2.138240</td>\n",
       "      <td>1</td>\n",
       "    </tr>\n",
       "    <tr>\n",
       "      <th>3</th>\n",
       "      <td>6.5</td>\n",
       "      <td>2010-04-11 12:21:00+00:00</td>\n",
       "      <td>-73.987343</td>\n",
       "      <td>40.750443</td>\n",
       "      <td>-73.967255</td>\n",
       "      <td>40.761093</td>\n",
       "      <td>2</td>\n",
       "      <td>2.067965</td>\n",
       "      <td>0</td>\n",
       "    </tr>\n",
       "    <tr>\n",
       "      <th>4</th>\n",
       "      <td>9.7</td>\n",
       "      <td>2011-05-01 03:17:00+00:00</td>\n",
       "      <td>-73.977600</td>\n",
       "      <td>40.784275</td>\n",
       "      <td>-73.943748</td>\n",
       "      <td>40.793705</td>\n",
       "      <td>4</td>\n",
       "      <td>3.043036</td>\n",
       "      <td>0</td>\n",
       "    </tr>\n",
       "  </tbody>\n",
       "</table>\n",
       "</div>"
      ],
      "text/plain": [
       "   fare_amount           pickup_datetime  pickup_longitude  pickup_latitude  \\\n",
       "0          7.3 2010-05-03 20:30:00+00:00        -73.976540        40.755760   \n",
       "1          8.5 2014-03-26 01:43:00+00:00        -73.973747        40.753689   \n",
       "2          8.1 2011-02-02 10:48:00+00:00        -73.980515        40.730530   \n",
       "3          6.5 2010-04-11 12:21:00+00:00        -73.987343        40.750443   \n",
       "4          9.7 2011-05-01 03:17:00+00:00        -73.977600        40.784275   \n",
       "\n",
       "   dropoff_longitude  dropoff_latitude  passenger_count  Distance  is_weekday  \n",
       "0         -73.959457         40.763329                1  1.669421           1  \n",
       "1         -73.950821         40.782818                1  3.769673           1  \n",
       "2         -74.003616         40.722664                1  2.138240           1  \n",
       "3         -73.967255         40.761093                2  2.067965           0  \n",
       "4         -73.943748         40.793705                4  3.043036           0  "
      ]
     },
     "execution_count": 6,
     "metadata": {},
     "output_type": "execute_result"
    }
   ],
   "source": [
    "train_df.head(5)"
   ]
  },
  {
   "cell_type": "code",
   "execution_count": 7,
   "metadata": {},
   "outputs": [
    {
     "data": {
      "text/plain": [
       "fare_amount                      float32\n",
       "pickup_datetime      datetime64[ns, UTC]\n",
       "pickup_longitude                 float32\n",
       "pickup_latitude                  float32\n",
       "dropoff_longitude                float32\n",
       "dropoff_latitude                 float32\n",
       "passenger_count                    uint8\n",
       "Distance                         float64\n",
       "is_weekday                         int64\n",
       "dtype: object"
      ]
     },
     "execution_count": 7,
     "metadata": {},
     "output_type": "execute_result"
    }
   ],
   "source": [
    "train_df.dtypes"
   ]
  },
  {
   "cell_type": "code",
   "execution_count": 8,
   "metadata": {},
   "outputs": [
    {
     "data": {
      "text/html": [
       "<div>\n",
       "<style scoped>\n",
       "    .dataframe tbody tr th:only-of-type {\n",
       "        vertical-align: middle;\n",
       "    }\n",
       "\n",
       "    .dataframe tbody tr th {\n",
       "        vertical-align: top;\n",
       "    }\n",
       "\n",
       "    .dataframe thead th {\n",
       "        text-align: right;\n",
       "    }\n",
       "</style>\n",
       "<table border=\"1\" class=\"dataframe\">\n",
       "  <thead>\n",
       "    <tr style=\"text-align: right;\">\n",
       "      <th></th>\n",
       "      <th>fare_amount</th>\n",
       "      <th>pickup_datetime</th>\n",
       "      <th>pickup_longitude</th>\n",
       "      <th>pickup_latitude</th>\n",
       "      <th>dropoff_longitude</th>\n",
       "      <th>dropoff_latitude</th>\n",
       "      <th>passenger_count</th>\n",
       "      <th>Distance</th>\n",
       "      <th>is_weekday</th>\n",
       "    </tr>\n",
       "  </thead>\n",
       "  <tbody>\n",
       "    <tr>\n",
       "      <th>0</th>\n",
       "      <td>7.3</td>\n",
       "      <td>2010-05-03 20:30:00+00:00</td>\n",
       "      <td>-73.976540</td>\n",
       "      <td>40.755760</td>\n",
       "      <td>-73.959457</td>\n",
       "      <td>40.763329</td>\n",
       "      <td>1</td>\n",
       "      <td>1.669421</td>\n",
       "      <td>1</td>\n",
       "    </tr>\n",
       "    <tr>\n",
       "      <th>1</th>\n",
       "      <td>8.5</td>\n",
       "      <td>2014-03-26 01:43:00+00:00</td>\n",
       "      <td>-73.973747</td>\n",
       "      <td>40.753689</td>\n",
       "      <td>-73.950821</td>\n",
       "      <td>40.782818</td>\n",
       "      <td>1</td>\n",
       "      <td>3.769673</td>\n",
       "      <td>1</td>\n",
       "    </tr>\n",
       "    <tr>\n",
       "      <th>2</th>\n",
       "      <td>8.1</td>\n",
       "      <td>2011-02-02 10:48:00+00:00</td>\n",
       "      <td>-73.980515</td>\n",
       "      <td>40.730530</td>\n",
       "      <td>-74.003616</td>\n",
       "      <td>40.722664</td>\n",
       "      <td>1</td>\n",
       "      <td>2.138240</td>\n",
       "      <td>1</td>\n",
       "    </tr>\n",
       "    <tr>\n",
       "      <th>3</th>\n",
       "      <td>6.5</td>\n",
       "      <td>2010-04-11 12:21:00+00:00</td>\n",
       "      <td>-73.987343</td>\n",
       "      <td>40.750443</td>\n",
       "      <td>-73.967255</td>\n",
       "      <td>40.761093</td>\n",
       "      <td>2</td>\n",
       "      <td>2.067965</td>\n",
       "      <td>0</td>\n",
       "    </tr>\n",
       "    <tr>\n",
       "      <th>4</th>\n",
       "      <td>9.7</td>\n",
       "      <td>2011-05-01 03:17:00+00:00</td>\n",
       "      <td>-73.977600</td>\n",
       "      <td>40.784275</td>\n",
       "      <td>-73.943748</td>\n",
       "      <td>40.793705</td>\n",
       "      <td>4</td>\n",
       "      <td>3.043036</td>\n",
       "      <td>0</td>\n",
       "    </tr>\n",
       "  </tbody>\n",
       "</table>\n",
       "</div>"
      ],
      "text/plain": [
       "   fare_amount           pickup_datetime  pickup_longitude  pickup_latitude  \\\n",
       "0          7.3 2010-05-03 20:30:00+00:00        -73.976540        40.755760   \n",
       "1          8.5 2014-03-26 01:43:00+00:00        -73.973747        40.753689   \n",
       "2          8.1 2011-02-02 10:48:00+00:00        -73.980515        40.730530   \n",
       "3          6.5 2010-04-11 12:21:00+00:00        -73.987343        40.750443   \n",
       "4          9.7 2011-05-01 03:17:00+00:00        -73.977600        40.784275   \n",
       "\n",
       "   dropoff_longitude  dropoff_latitude  passenger_count  Distance  is_weekday  \n",
       "0         -73.959457         40.763329                1  1.669421           1  \n",
       "1         -73.950821         40.782818                1  3.769673           1  \n",
       "2         -74.003616         40.722664                1  2.138240           1  \n",
       "3         -73.967255         40.761093                2  2.067965           0  \n",
       "4         -73.943748         40.793705                4  3.043036           0  "
      ]
     },
     "metadata": {},
     "output_type": "display_data"
    },
    {
     "data": {
      "text/html": [
       "<div>\n",
       "<style scoped>\n",
       "    .dataframe tbody tr th:only-of-type {\n",
       "        vertical-align: middle;\n",
       "    }\n",
       "\n",
       "    .dataframe tbody tr th {\n",
       "        vertical-align: top;\n",
       "    }\n",
       "\n",
       "    .dataframe thead th {\n",
       "        text-align: right;\n",
       "    }\n",
       "</style>\n",
       "<table border=\"1\" class=\"dataframe\">\n",
       "  <thead>\n",
       "    <tr style=\"text-align: right;\">\n",
       "      <th></th>\n",
       "      <th>fare_amount</th>\n",
       "      <th>pickup_datetime</th>\n",
       "      <th>pickup_longitude</th>\n",
       "      <th>pickup_latitude</th>\n",
       "      <th>dropoff_longitude</th>\n",
       "      <th>dropoff_latitude</th>\n",
       "      <th>passenger_count</th>\n",
       "      <th>Distance</th>\n",
       "      <th>is_weekday</th>\n",
       "    </tr>\n",
       "  </thead>\n",
       "  <tbody>\n",
       "    <tr>\n",
       "      <th>99995</th>\n",
       "      <td>4.5</td>\n",
       "      <td>2010-12-04 04:49:00+00:00</td>\n",
       "      <td>-73.863907</td>\n",
       "      <td>40.757801</td>\n",
       "      <td>-73.855072</td>\n",
       "      <td>40.751900</td>\n",
       "      <td>3</td>\n",
       "      <td>0.993019</td>\n",
       "      <td>0</td>\n",
       "    </tr>\n",
       "    <tr>\n",
       "      <th>99996</th>\n",
       "      <td>20.0</td>\n",
       "      <td>2015-06-11 13:45:00+00:00</td>\n",
       "      <td>-73.966965</td>\n",
       "      <td>40.753281</td>\n",
       "      <td>-73.923897</td>\n",
       "      <td>40.766537</td>\n",
       "      <td>5</td>\n",
       "      <td>3.923289</td>\n",
       "      <td>1</td>\n",
       "    </tr>\n",
       "    <tr>\n",
       "      <th>99997</th>\n",
       "      <td>8.0</td>\n",
       "      <td>2013-07-28 18:18:00+00:00</td>\n",
       "      <td>-73.998848</td>\n",
       "      <td>40.754730</td>\n",
       "      <td>-73.983086</td>\n",
       "      <td>40.775040</td>\n",
       "      <td>1</td>\n",
       "      <td>2.618744</td>\n",
       "      <td>0</td>\n",
       "    </tr>\n",
       "    <tr>\n",
       "      <th>99998</th>\n",
       "      <td>8.0</td>\n",
       "      <td>2013-02-21 09:55:00+00:00</td>\n",
       "      <td>-74.006371</td>\n",
       "      <td>40.733231</td>\n",
       "      <td>-73.990227</td>\n",
       "      <td>40.739323</td>\n",
       "      <td>5</td>\n",
       "      <td>1.522251</td>\n",
       "      <td>1</td>\n",
       "    </tr>\n",
       "    <tr>\n",
       "      <th>99999</th>\n",
       "      <td>8.1</td>\n",
       "      <td>2009-02-09 11:45:00+00:00</td>\n",
       "      <td>-74.009377</td>\n",
       "      <td>40.713066</td>\n",
       "      <td>-73.994949</td>\n",
       "      <td>40.728008</td>\n",
       "      <td>1</td>\n",
       "      <td>2.058914</td>\n",
       "      <td>1</td>\n",
       "    </tr>\n",
       "  </tbody>\n",
       "</table>\n",
       "</div>"
      ],
      "text/plain": [
       "       fare_amount           pickup_datetime  pickup_longitude  \\\n",
       "99995          4.5 2010-12-04 04:49:00+00:00        -73.863907   \n",
       "99996         20.0 2015-06-11 13:45:00+00:00        -73.966965   \n",
       "99997          8.0 2013-07-28 18:18:00+00:00        -73.998848   \n",
       "99998          8.0 2013-02-21 09:55:00+00:00        -74.006371   \n",
       "99999          8.1 2009-02-09 11:45:00+00:00        -74.009377   \n",
       "\n",
       "       pickup_latitude  dropoff_longitude  dropoff_latitude  passenger_count  \\\n",
       "99995        40.757801         -73.855072         40.751900                3   \n",
       "99996        40.753281         -73.923897         40.766537                5   \n",
       "99997        40.754730         -73.983086         40.775040                1   \n",
       "99998        40.733231         -73.990227         40.739323                5   \n",
       "99999        40.713066         -73.994949         40.728008                1   \n",
       "\n",
       "       Distance  is_weekday  \n",
       "99995  0.993019           0  \n",
       "99996  3.923289           1  \n",
       "99997  2.618744           0  \n",
       "99998  1.522251           1  \n",
       "99999  2.058914           1  "
      ]
     },
     "metadata": {},
     "output_type": "display_data"
    }
   ],
   "source": [
    "display(train_df.head(5))\n",
    "display(train_df.tail(5))"
   ]
  },
  {
   "cell_type": "code",
   "execution_count": 9,
   "metadata": {},
   "outputs": [
    {
     "data": {
      "text/plain": [
       "(99993, 9)"
      ]
     },
     "execution_count": 9,
     "metadata": {},
     "output_type": "execute_result"
    }
   ],
   "source": [
    "train_df.shape"
   ]
  },
  {
   "cell_type": "code",
   "execution_count": 10,
   "metadata": {},
   "outputs": [
    {
     "data": {
      "text/plain": [
       "fare_amount          0\n",
       "pickup_datetime      0\n",
       "pickup_longitude     0\n",
       "pickup_latitude      0\n",
       "dropoff_longitude    0\n",
       "dropoff_latitude     0\n",
       "passenger_count      0\n",
       "Distance             0\n",
       "is_weekday           0\n",
       "dtype: int64"
      ]
     },
     "execution_count": 10,
     "metadata": {},
     "output_type": "execute_result"
    }
   ],
   "source": [
    "train_df.isnull().sum()"
   ]
  },
  {
   "cell_type": "code",
   "execution_count": 11,
   "metadata": {},
   "outputs": [],
   "source": [
    "train_df.is_weekday = train_df.is_weekday.astype('category')\n",
    "train_df.Distance = train_df.Distance.astype('float32')"
   ]
  },
  {
   "cell_type": "code",
   "execution_count": 12,
   "metadata": {},
   "outputs": [
    {
     "data": {
      "text/plain": [
       "fare_amount                      float32\n",
       "pickup_datetime      datetime64[ns, UTC]\n",
       "pickup_longitude                 float32\n",
       "pickup_latitude                  float32\n",
       "dropoff_longitude                float32\n",
       "dropoff_latitude                 float32\n",
       "passenger_count                    uint8\n",
       "Distance                         float32\n",
       "is_weekday                      category\n",
       "dtype: object"
      ]
     },
     "execution_count": 12,
     "metadata": {},
     "output_type": "execute_result"
    }
   ],
   "source": [
    "train_df.dtypes"
   ]
  },
  {
   "cell_type": "code",
   "execution_count": 13,
   "metadata": {},
   "outputs": [],
   "source": [
    "X = train_df.drop([\"fare_amount\",\"pickup_datetime\"],axis=1)\n",
    "y = train_df.fare_amount\n",
    "X_train,X_test,y_train,y_test = model_selection.train_test_split(X,y,test_size = 0.3,random_state=42)"
   ]
  },
  {
   "cell_type": "code",
   "execution_count": 14,
   "metadata": {},
   "outputs": [
    {
     "data": {
      "text/plain": [
       "((69995, 7), (29998, 7), (69995,), (29998,))"
      ]
     },
     "execution_count": 14,
     "metadata": {},
     "output_type": "execute_result"
    }
   ],
   "source": [
    "X_train.shape,X_test.shape,y_train.shape,y_test.shape"
   ]
  },
  {
   "cell_type": "code",
   "execution_count": 15,
   "metadata": {},
   "outputs": [],
   "source": [
    "lm = LinearRegression()"
   ]
  },
  {
   "cell_type": "code",
   "execution_count": 16,
   "metadata": {},
   "outputs": [
    {
     "name": "stdout",
     "output_type": "stream",
     "text": [
      "[-0.0048495   0.04755768 -0.01867558 -0.09900695  0.079006    0.00063995\n",
      "  0.00023357]\n",
      "11.590318551056033\n",
      "9.886236316012486\n",
      "0.0005454907964852485\n"
     ]
    }
   ],
   "source": [
    "lm.fit(X_train,y_train)\n",
    "print(lm.coef_)\n",
    "print(lm.intercept_)\n",
    "predict = lm.predict(X_test)\n",
    "print(sqrt(mean_squared_error(y_test,predict)))\n",
    "print(lm.score(X_test,y_test))"
   ]
  },
  {
   "cell_type": "code",
   "execution_count": 17,
   "metadata": {},
   "outputs": [
    {
     "data": {
      "text/plain": [
       "array([ 5.        ,  4.93939394,  4.87878788,  4.81818182,  4.75757576,\n",
       "        4.6969697 ,  4.63636364,  4.57575758,  4.51515152,  4.45454545,\n",
       "        4.39393939,  4.33333333,  4.27272727,  4.21212121,  4.15151515,\n",
       "        4.09090909,  4.03030303,  3.96969697,  3.90909091,  3.84848485,\n",
       "        3.78787879,  3.72727273,  3.66666667,  3.60606061,  3.54545455,\n",
       "        3.48484848,  3.42424242,  3.36363636,  3.3030303 ,  3.24242424,\n",
       "        3.18181818,  3.12121212,  3.06060606,  3.        ,  2.93939394,\n",
       "        2.87878788,  2.81818182,  2.75757576,  2.6969697 ,  2.63636364,\n",
       "        2.57575758,  2.51515152,  2.45454545,  2.39393939,  2.33333333,\n",
       "        2.27272727,  2.21212121,  2.15151515,  2.09090909,  2.03030303,\n",
       "        1.96969697,  1.90909091,  1.84848485,  1.78787879,  1.72727273,\n",
       "        1.66666667,  1.60606061,  1.54545455,  1.48484848,  1.42424242,\n",
       "        1.36363636,  1.3030303 ,  1.24242424,  1.18181818,  1.12121212,\n",
       "        1.06060606,  1.        ,  0.93939394,  0.87878788,  0.81818182,\n",
       "        0.75757576,  0.6969697 ,  0.63636364,  0.57575758,  0.51515152,\n",
       "        0.45454545,  0.39393939,  0.33333333,  0.27272727,  0.21212121,\n",
       "        0.15151515,  0.09090909,  0.03030303, -0.03030303, -0.09090909,\n",
       "       -0.15151515, -0.21212121, -0.27272727, -0.33333333, -0.39393939,\n",
       "       -0.45454545, -0.51515152, -0.57575758, -0.63636364, -0.6969697 ,\n",
       "       -0.75757576, -0.81818182, -0.87878788, -0.93939394, -1.        ])"
      ]
     },
     "execution_count": 17,
     "metadata": {},
     "output_type": "execute_result"
    }
   ],
   "source": [
    "import numpy as np\n",
    "np.linspace(10,-2,100)*.5"
   ]
  },
  {
   "cell_type": "code",
   "execution_count": 18,
   "metadata": {},
   "outputs": [
    {
     "data": {
      "text/plain": [
       "array([5.00000000e+09, 3.78231664e+09, 2.86118383e+09, 2.16438064e+09,\n",
       "       1.63727458e+09, 1.23853818e+09, 9.36908711e+08, 7.08737081e+08,\n",
       "       5.36133611e+08, 4.05565415e+08, 3.06795364e+08, 2.32079442e+08,\n",
       "       1.75559587e+08, 1.32804389e+08, 1.00461650e+08, 7.59955541e+07,\n",
       "       5.74878498e+07, 4.34874501e+07, 3.28966612e+07, 2.48851178e+07,\n",
       "       1.88246790e+07, 1.42401793e+07, 1.07721735e+07, 8.14875417e+06,\n",
       "       6.16423370e+06, 4.66301673e+06, 3.52740116e+06, 2.66834962e+06,\n",
       "       2.01850863e+06, 1.52692775e+06, 1.15506485e+06, 8.73764200e+05,\n",
       "       6.60970574e+05, 5.00000000e+05, 3.78231664e+05, 2.86118383e+05,\n",
       "       2.16438064e+05, 1.63727458e+05, 1.23853818e+05, 9.36908711e+04,\n",
       "       7.08737081e+04, 5.36133611e+04, 4.05565415e+04, 3.06795364e+04,\n",
       "       2.32079442e+04, 1.75559587e+04, 1.32804389e+04, 1.00461650e+04,\n",
       "       7.59955541e+03, 5.74878498e+03, 4.34874501e+03, 3.28966612e+03,\n",
       "       2.48851178e+03, 1.88246790e+03, 1.42401793e+03, 1.07721735e+03,\n",
       "       8.14875417e+02, 6.16423370e+02, 4.66301673e+02, 3.52740116e+02,\n",
       "       2.66834962e+02, 2.01850863e+02, 1.52692775e+02, 1.15506485e+02,\n",
       "       8.73764200e+01, 6.60970574e+01, 5.00000000e+01, 3.78231664e+01,\n",
       "       2.86118383e+01, 2.16438064e+01, 1.63727458e+01, 1.23853818e+01,\n",
       "       9.36908711e+00, 7.08737081e+00, 5.36133611e+00, 4.05565415e+00,\n",
       "       3.06795364e+00, 2.32079442e+00, 1.75559587e+00, 1.32804389e+00,\n",
       "       1.00461650e+00, 7.59955541e-01, 5.74878498e-01, 4.34874501e-01,\n",
       "       3.28966612e-01, 2.48851178e-01, 1.88246790e-01, 1.42401793e-01,\n",
       "       1.07721735e-01, 8.14875417e-02, 6.16423370e-02, 4.66301673e-02,\n",
       "       3.52740116e-02, 2.66834962e-02, 2.01850863e-02, 1.52692775e-02,\n",
       "       1.15506485e-02, 8.73764200e-03, 6.60970574e-03, 5.00000000e-03])"
      ]
     },
     "execution_count": 18,
     "metadata": {},
     "output_type": "execute_result"
    }
   ],
   "source": [
    "alphas = 10 ** np.linspace(10, -2, 100)*0.5\n",
    "alphas"
   ]
  },
  {
   "cell_type": "code",
   "execution_count": 19,
   "metadata": {},
   "outputs": [],
   "source": [
    "ridge = Ridge(normalize = True)\n",
    "#default alpha = 1\n",
    "coefs = []\n",
    "\n",
    "#try out different values of alpha\n",
    "for a in alphas: #iterating over the list of aplhas\n",
    "    ridge.set_params(alpha = a)\n",
    "    ridge.fit(X, y)\n",
    "    coefs.append(ridge.coef_)\n"
   ]
  },
  {
   "cell_type": "code",
   "execution_count": 20,
   "metadata": {},
   "outputs": [
    {
     "data": {
      "text/plain": [
       "Text(0, 0.5, 'coefs')"
      ]
     },
     "execution_count": 20,
     "metadata": {},
     "output_type": "execute_result"
    },
    {
     "data": {
      "image/png": "[encoded data removed]",
      "text/plain": [
       "<Figure size 864x432 with 1 Axes>"
      ]
     },
     "metadata": {},
     "output_type": "display_data"
    }
   ],
   "source": [
    "plt.figure(figsize=(12, 6))\n",
    "ax = plt.gca()\n",
    "\n",
    "ax.plot(alphas, coefs)\n",
    "\n",
    "ax.set_xscale('log')\n",
    "plt.axis('tight')\n",
    "plt.xlabel('alpha')\n",
    "plt.ylabel('coefs')"
   ]
  },
  {
   "cell_type": "code",
   "execution_count": 21,
   "metadata": {},
   "outputs": [
    {
     "data": {
      "text/plain": [
       "0.3289666123287841"
      ]
     },
     "execution_count": 21,
     "metadata": {},
     "output_type": "execute_result"
    }
   ],
   "source": [
    "ridgecv = RidgeCV(alphas = alphas, \n",
    "                  scoring = 'neg_mean_squared_error', \n",
    "                  normalize = True, cv = 5)\n",
    "\n",
    "ridgecv.fit(X_train, y_train)\n",
    "ridgecv.alpha_"
   ]
  },
  {
   "cell_type": "code",
   "execution_count": 22,
   "metadata": {},
   "outputs": [
    {
     "name": "stdout",
     "output_type": "stream",
     "text": [
      "9.88611535276303\n",
      "0.0005699483396051086\n"
     ]
    }
   ],
   "source": [
    "ridge4 = Ridge(alpha = ridgecv.alpha_, normalize = True)\n",
    "ridge4.fit(X_train, y_train)\n",
    "ypred = ridge4.predict(X_test)\n",
    "print(sqrt(mean_squared_error(y_test,ypred)))\n",
    "print(r2_score(y_test,ypred))"
   ]
  },
  {
   "cell_type": "code",
   "execution_count": 15,
   "metadata": {},
   "outputs": [
    {
     "data": {
      "text/html": [
       "<div>\n",
       "<style scoped>\n",
       "    .dataframe tbody tr th:only-of-type {\n",
       "        vertical-align: middle;\n",
       "    }\n",
       "\n",
       "    .dataframe tbody tr th {\n",
       "        vertical-align: top;\n",
       "    }\n",
       "\n",
       "    .dataframe thead th {\n",
       "        text-align: right;\n",
       "    }\n",
       "</style>\n",
       "<table border=\"1\" class=\"dataframe\">\n",
       "  <thead>\n",
       "    <tr style=\"text-align: right;\">\n",
       "      <th></th>\n",
       "      <th>fare_amount</th>\n",
       "      <th>pickup_datetime</th>\n",
       "      <th>pickup_longitude</th>\n",
       "      <th>pickup_latitude</th>\n",
       "      <th>dropoff_longitude</th>\n",
       "      <th>dropoff_latitude</th>\n",
       "      <th>passenger_count</th>\n",
       "      <th>Distance</th>\n",
       "      <th>is_weekday</th>\n",
       "    </tr>\n",
       "  </thead>\n",
       "  <tbody>\n",
       "    <tr>\n",
       "      <th>0</th>\n",
       "      <td>7.3</td>\n",
       "      <td>2010-05-03 20:30:00+00:00</td>\n",
       "      <td>-73.976540</td>\n",
       "      <td>40.755760</td>\n",
       "      <td>-73.959457</td>\n",
       "      <td>40.763329</td>\n",
       "      <td>1</td>\n",
       "      <td>1.669421</td>\n",
       "      <td>1</td>\n",
       "    </tr>\n",
       "    <tr>\n",
       "      <th>1</th>\n",
       "      <td>8.5</td>\n",
       "      <td>2014-03-26 01:43:00+00:00</td>\n",
       "      <td>-73.973747</td>\n",
       "      <td>40.753689</td>\n",
       "      <td>-73.950821</td>\n",
       "      <td>40.782818</td>\n",
       "      <td>1</td>\n",
       "      <td>3.769673</td>\n",
       "      <td>1</td>\n",
       "    </tr>\n",
       "    <tr>\n",
       "      <th>2</th>\n",
       "      <td>8.1</td>\n",
       "      <td>2011-02-02 10:48:00+00:00</td>\n",
       "      <td>-73.980515</td>\n",
       "      <td>40.730530</td>\n",
       "      <td>-74.003616</td>\n",
       "      <td>40.722664</td>\n",
       "      <td>1</td>\n",
       "      <td>2.138240</td>\n",
       "      <td>1</td>\n",
       "    </tr>\n",
       "    <tr>\n",
       "      <th>3</th>\n",
       "      <td>6.5</td>\n",
       "      <td>2010-04-11 12:21:00+00:00</td>\n",
       "      <td>-73.987343</td>\n",
       "      <td>40.750443</td>\n",
       "      <td>-73.967255</td>\n",
       "      <td>40.761093</td>\n",
       "      <td>2</td>\n",
       "      <td>2.067965</td>\n",
       "      <td>0</td>\n",
       "    </tr>\n",
       "    <tr>\n",
       "      <th>4</th>\n",
       "      <td>9.7</td>\n",
       "      <td>2011-05-01 03:17:00+00:00</td>\n",
       "      <td>-73.977600</td>\n",
       "      <td>40.784275</td>\n",
       "      <td>-73.943748</td>\n",
       "      <td>40.793705</td>\n",
       "      <td>4</td>\n",
       "      <td>3.043036</td>\n",
       "      <td>0</td>\n",
       "    </tr>\n",
       "  </tbody>\n",
       "</table>\n",
       "</div>"
      ],
      "text/plain": [
       "   fare_amount           pickup_datetime  pickup_longitude  pickup_latitude  \\\n",
       "0          7.3 2010-05-03 20:30:00+00:00        -73.976540        40.755760   \n",
       "1          8.5 2014-03-26 01:43:00+00:00        -73.973747        40.753689   \n",
       "2          8.1 2011-02-02 10:48:00+00:00        -73.980515        40.730530   \n",
       "3          6.5 2010-04-11 12:21:00+00:00        -73.987343        40.750443   \n",
       "4          9.7 2011-05-01 03:17:00+00:00        -73.977600        40.784275   \n",
       "\n",
       "   dropoff_longitude  dropoff_latitude  passenger_count  Distance is_weekday  \n",
       "0         -73.959457         40.763329                1  1.669421          1  \n",
       "1         -73.950821         40.782818                1  3.769673          1  \n",
       "2         -74.003616         40.722664                1  2.138240          1  \n",
       "3         -73.967255         40.761093                2  2.067965          0  \n",
       "4         -73.943748         40.793705                4  3.043036          0  "
      ]
     },
     "execution_count": 15,
     "metadata": {},
     "output_type": "execute_result"
    }
   ],
   "source": [
    "train_df.head(5)"
   ]
  },
  {
   "cell_type": "code",
   "execution_count": 16,
   "metadata": {},
   "outputs": [],
   "source": [
    "train_df['Month'] = pd.DatetimeIndex(train_df['pickup_datetime']).month\n",
    "train_df['Year']  = pd.DatetimeIndex(train_df['pickup_datetime']).year\n",
    "train_df['Time']  = pd.DatetimeIndex(train_df['pickup_datetime']).time\n",
    "train_df['hour']  = pd.DatetimeIndex(train_df['pickup_datetime']).hour"
   ]
  },
  {
   "cell_type": "code",
   "execution_count": 17,
   "metadata": {},
   "outputs": [
    {
     "data": {
      "text/html": [
       "<div>\n",
       "<style scoped>\n",
       "    .dataframe tbody tr th:only-of-type {\n",
       "        vertical-align: middle;\n",
       "    }\n",
       "\n",
       "    .dataframe tbody tr th {\n",
       "        vertical-align: top;\n",
       "    }\n",
       "\n",
       "    .dataframe thead th {\n",
       "        text-align: right;\n",
       "    }\n",
       "</style>\n",
       "<table border=\"1\" class=\"dataframe\">\n",
       "  <thead>\n",
       "    <tr style=\"text-align: right;\">\n",
       "      <th></th>\n",
       "      <th>fare_amount</th>\n",
       "      <th>pickup_datetime</th>\n",
       "      <th>pickup_longitude</th>\n",
       "      <th>pickup_latitude</th>\n",
       "      <th>dropoff_longitude</th>\n",
       "      <th>dropoff_latitude</th>\n",
       "      <th>passenger_count</th>\n",
       "      <th>Distance</th>\n",
       "      <th>is_weekday</th>\n",
       "      <th>Month</th>\n",
       "      <th>Year</th>\n",
       "      <th>Time</th>\n",
       "      <th>hour</th>\n",
       "    </tr>\n",
       "  </thead>\n",
       "  <tbody>\n",
       "    <tr>\n",
       "      <th>0</th>\n",
       "      <td>7.3</td>\n",
       "      <td>2010-05-03 20:30:00+00:00</td>\n",
       "      <td>-73.976540</td>\n",
       "      <td>40.755760</td>\n",
       "      <td>-73.959457</td>\n",
       "      <td>40.763329</td>\n",
       "      <td>1</td>\n",
       "      <td>1.669421</td>\n",
       "      <td>1</td>\n",
       "      <td>5</td>\n",
       "      <td>2010</td>\n",
       "      <td>20:30:00</td>\n",
       "      <td>20</td>\n",
       "    </tr>\n",
       "    <tr>\n",
       "      <th>1</th>\n",
       "      <td>8.5</td>\n",
       "      <td>2014-03-26 01:43:00+00:00</td>\n",
       "      <td>-73.973747</td>\n",
       "      <td>40.753689</td>\n",
       "      <td>-73.950821</td>\n",
       "      <td>40.782818</td>\n",
       "      <td>1</td>\n",
       "      <td>3.769673</td>\n",
       "      <td>1</td>\n",
       "      <td>3</td>\n",
       "      <td>2014</td>\n",
       "      <td>01:43:00</td>\n",
       "      <td>1</td>\n",
       "    </tr>\n",
       "    <tr>\n",
       "      <th>2</th>\n",
       "      <td>8.1</td>\n",
       "      <td>2011-02-02 10:48:00+00:00</td>\n",
       "      <td>-73.980515</td>\n",
       "      <td>40.730530</td>\n",
       "      <td>-74.003616</td>\n",
       "      <td>40.722664</td>\n",
       "      <td>1</td>\n",
       "      <td>2.138240</td>\n",
       "      <td>1</td>\n",
       "      <td>2</td>\n",
       "      <td>2011</td>\n",
       "      <td>10:48:00</td>\n",
       "      <td>10</td>\n",
       "    </tr>\n",
       "    <tr>\n",
       "      <th>3</th>\n",
       "      <td>6.5</td>\n",
       "      <td>2010-04-11 12:21:00+00:00</td>\n",
       "      <td>-73.987343</td>\n",
       "      <td>40.750443</td>\n",
       "      <td>-73.967255</td>\n",
       "      <td>40.761093</td>\n",
       "      <td>2</td>\n",
       "      <td>2.067965</td>\n",
       "      <td>0</td>\n",
       "      <td>4</td>\n",
       "      <td>2010</td>\n",
       "      <td>12:21:00</td>\n",
       "      <td>12</td>\n",
       "    </tr>\n",
       "    <tr>\n",
       "      <th>4</th>\n",
       "      <td>9.7</td>\n",
       "      <td>2011-05-01 03:17:00+00:00</td>\n",
       "      <td>-73.977600</td>\n",
       "      <td>40.784275</td>\n",
       "      <td>-73.943748</td>\n",
       "      <td>40.793705</td>\n",
       "      <td>4</td>\n",
       "      <td>3.043036</td>\n",
       "      <td>0</td>\n",
       "      <td>5</td>\n",
       "      <td>2011</td>\n",
       "      <td>03:17:00</td>\n",
       "      <td>3</td>\n",
       "    </tr>\n",
       "  </tbody>\n",
       "</table>\n",
       "</div>"
      ],
      "text/plain": [
       "   fare_amount           pickup_datetime  pickup_longitude  pickup_latitude  \\\n",
       "0          7.3 2010-05-03 20:30:00+00:00        -73.976540        40.755760   \n",
       "1          8.5 2014-03-26 01:43:00+00:00        -73.973747        40.753689   \n",
       "2          8.1 2011-02-02 10:48:00+00:00        -73.980515        40.730530   \n",
       "3          6.5 2010-04-11 12:21:00+00:00        -73.987343        40.750443   \n",
       "4          9.7 2011-05-01 03:17:00+00:00        -73.977600        40.784275   \n",
       "\n",
       "   dropoff_longitude  dropoff_latitude  passenger_count  Distance is_weekday  \\\n",
       "0         -73.959457         40.763329                1  1.669421          1   \n",
       "1         -73.950821         40.782818                1  3.769673          1   \n",
       "2         -74.003616         40.722664                1  2.138240          1   \n",
       "3         -73.967255         40.761093                2  2.067965          0   \n",
       "4         -73.943748         40.793705                4  3.043036          0   \n",
       "\n",
       "   Month  Year      Time  hour  \n",
       "0      5  2010  20:30:00    20  \n",
       "1      3  2014  01:43:00     1  \n",
       "2      2  2011  10:48:00    10  \n",
       "3      4  2010  12:21:00    12  \n",
       "4      5  2011  03:17:00     3  "
      ]
     },
     "execution_count": 17,
     "metadata": {},
     "output_type": "execute_result"
    }
   ],
   "source": [
    "train_df.head(5)"
   ]
  },
  {
   "cell_type": "code",
   "execution_count": 18,
   "metadata": {},
   "outputs": [
    {
     "data": {
      "text/plain": [
       "fare_amount                      float32\n",
       "pickup_datetime      datetime64[ns, UTC]\n",
       "pickup_longitude                 float32\n",
       "pickup_latitude                  float32\n",
       "dropoff_longitude                float32\n",
       "dropoff_latitude                 float32\n",
       "passenger_count                    uint8\n",
       "Distance                         float32\n",
       "is_weekday                      category\n",
       "Month                              int64\n",
       "Year                               int64\n",
       "Time                              object\n",
       "hour                               int64\n",
       "dtype: object"
      ]
     },
     "execution_count": 18,
     "metadata": {},
     "output_type": "execute_result"
    }
   ],
   "source": [
    "train_df.dtypes"
   ]
  },
  {
   "cell_type": "code",
   "execution_count": 19,
   "metadata": {},
   "outputs": [],
   "source": [
    "train_df.Month = train_df.Month.astype('uint8')"
   ]
  },
  {
   "cell_type": "code",
   "execution_count": 20,
   "metadata": {},
   "outputs": [
    {
     "data": {
      "text/plain": [
       "fare_amount                      float32\n",
       "pickup_datetime      datetime64[ns, UTC]\n",
       "pickup_longitude                 float32\n",
       "pickup_latitude                  float32\n",
       "dropoff_longitude                float32\n",
       "dropoff_latitude                 float32\n",
       "passenger_count                    uint8\n",
       "Distance                         float32\n",
       "is_weekday                      category\n",
       "Month                              uint8\n",
       "Year                               int64\n",
       "Time                              object\n",
       "hour                               int64\n",
       "dtype: object"
      ]
     },
     "execution_count": 20,
     "metadata": {},
     "output_type": "execute_result"
    }
   ],
   "source": [
    "train_df.dtypes"
   ]
  },
  {
   "cell_type": "code",
   "execution_count": 21,
   "metadata": {},
   "outputs": [],
   "source": [
    "train_df.Time = train_df.Time.astype('str')"
   ]
  },
  {
   "cell_type": "code",
   "execution_count": 22,
   "metadata": {},
   "outputs": [],
   "source": [
    "train_df.Time = pd.to_timedelta(train_df.Time)"
   ]
  },
  {
   "cell_type": "code",
   "execution_count": 23,
   "metadata": {},
   "outputs": [
    {
     "data": {
      "text/plain": [
       "fare_amount                      float32\n",
       "pickup_datetime      datetime64[ns, UTC]\n",
       "pickup_longitude                 float32\n",
       "pickup_latitude                  float32\n",
       "dropoff_longitude                float32\n",
       "dropoff_latitude                 float32\n",
       "passenger_count                    uint8\n",
       "Distance                         float32\n",
       "is_weekday                      category\n",
       "Month                              uint8\n",
       "Year                               int64\n",
       "Time                     timedelta64[ns]\n",
       "hour                               int64\n",
       "dtype: object"
      ]
     },
     "execution_count": 23,
     "metadata": {},
     "output_type": "execute_result"
    }
   ],
   "source": [
    "train_df.dtypes"
   ]
  },
  {
   "cell_type": "code",
   "execution_count": 24,
   "metadata": {},
   "outputs": [
    {
     "data": {
      "text/plain": [
       "0       20:30:00\n",
       "1       01:43:00\n",
       "2       10:48:00\n",
       "3       12:21:00\n",
       "4       03:17:00\n",
       "          ...   \n",
       "99995   04:49:00\n",
       "99996   13:45:00\n",
       "99997   18:18:00\n",
       "99998   09:55:00\n",
       "99999   11:45:00\n",
       "Name: Time, Length: 99993, dtype: timedelta64[ns]"
      ]
     },
     "execution_count": 24,
     "metadata": {},
     "output_type": "execute_result"
    }
   ],
   "source": [
    "train_df.Time"
   ]
  },
  {
   "cell_type": "code",
   "execution_count": 25,
   "metadata": {},
   "outputs": [],
   "source": [
    "train_df['is_night_time'] = 0\n",
    "train_df.loc[(train_df.Time >= pd.to_timedelta('22:00:00')) | (train_df.Time <= pd.to_timedelta('06:00:00')),'is_night_time'] = 1"
   ]
  },
  {
   "cell_type": "code",
   "execution_count": 26,
   "metadata": {},
   "outputs": [
    {
     "data": {
      "text/html": [
       "<div>\n",
       "<style scoped>\n",
       "    .dataframe tbody tr th:only-of-type {\n",
       "        vertical-align: middle;\n",
       "    }\n",
       "\n",
       "    .dataframe tbody tr th {\n",
       "        vertical-align: top;\n",
       "    }\n",
       "\n",
       "    .dataframe thead th {\n",
       "        text-align: right;\n",
       "    }\n",
       "</style>\n",
       "<table border=\"1\" class=\"dataframe\">\n",
       "  <thead>\n",
       "    <tr style=\"text-align: right;\">\n",
       "      <th></th>\n",
       "      <th>fare_amount</th>\n",
       "      <th>pickup_datetime</th>\n",
       "      <th>pickup_longitude</th>\n",
       "      <th>pickup_latitude</th>\n",
       "      <th>dropoff_longitude</th>\n",
       "      <th>dropoff_latitude</th>\n",
       "      <th>passenger_count</th>\n",
       "      <th>Distance</th>\n",
       "      <th>is_weekday</th>\n",
       "      <th>Month</th>\n",
       "      <th>Year</th>\n",
       "      <th>Time</th>\n",
       "      <th>hour</th>\n",
       "      <th>is_night_time</th>\n",
       "    </tr>\n",
       "  </thead>\n",
       "  <tbody>\n",
       "    <tr>\n",
       "      <th>0</th>\n",
       "      <td>7.3</td>\n",
       "      <td>2010-05-03 20:30:00+00:00</td>\n",
       "      <td>-73.976540</td>\n",
       "      <td>40.755760</td>\n",
       "      <td>-73.959457</td>\n",
       "      <td>40.763329</td>\n",
       "      <td>1</td>\n",
       "      <td>1.669421</td>\n",
       "      <td>1</td>\n",
       "      <td>5</td>\n",
       "      <td>2010</td>\n",
       "      <td>20:30:00</td>\n",
       "      <td>20</td>\n",
       "      <td>0</td>\n",
       "    </tr>\n",
       "    <tr>\n",
       "      <th>1</th>\n",
       "      <td>8.5</td>\n",
       "      <td>2014-03-26 01:43:00+00:00</td>\n",
       "      <td>-73.973747</td>\n",
       "      <td>40.753689</td>\n",
       "      <td>-73.950821</td>\n",
       "      <td>40.782818</td>\n",
       "      <td>1</td>\n",
       "      <td>3.769673</td>\n",
       "      <td>1</td>\n",
       "      <td>3</td>\n",
       "      <td>2014</td>\n",
       "      <td>01:43:00</td>\n",
       "      <td>1</td>\n",
       "      <td>1</td>\n",
       "    </tr>\n",
       "    <tr>\n",
       "      <th>2</th>\n",
       "      <td>8.1</td>\n",
       "      <td>2011-02-02 10:48:00+00:00</td>\n",
       "      <td>-73.980515</td>\n",
       "      <td>40.730530</td>\n",
       "      <td>-74.003616</td>\n",
       "      <td>40.722664</td>\n",
       "      <td>1</td>\n",
       "      <td>2.138240</td>\n",
       "      <td>1</td>\n",
       "      <td>2</td>\n",
       "      <td>2011</td>\n",
       "      <td>10:48:00</td>\n",
       "      <td>10</td>\n",
       "      <td>0</td>\n",
       "    </tr>\n",
       "    <tr>\n",
       "      <th>3</th>\n",
       "      <td>6.5</td>\n",
       "      <td>2010-04-11 12:21:00+00:00</td>\n",
       "      <td>-73.987343</td>\n",
       "      <td>40.750443</td>\n",
       "      <td>-73.967255</td>\n",
       "      <td>40.761093</td>\n",
       "      <td>2</td>\n",
       "      <td>2.067965</td>\n",
       "      <td>0</td>\n",
       "      <td>4</td>\n",
       "      <td>2010</td>\n",
       "      <td>12:21:00</td>\n",
       "      <td>12</td>\n",
       "      <td>0</td>\n",
       "    </tr>\n",
       "    <tr>\n",
       "      <th>4</th>\n",
       "      <td>9.7</td>\n",
       "      <td>2011-05-01 03:17:00+00:00</td>\n",
       "      <td>-73.977600</td>\n",
       "      <td>40.784275</td>\n",
       "      <td>-73.943748</td>\n",
       "      <td>40.793705</td>\n",
       "      <td>4</td>\n",
       "      <td>3.043036</td>\n",
       "      <td>0</td>\n",
       "      <td>5</td>\n",
       "      <td>2011</td>\n",
       "      <td>03:17:00</td>\n",
       "      <td>3</td>\n",
       "      <td>1</td>\n",
       "    </tr>\n",
       "  </tbody>\n",
       "</table>\n",
       "</div>"
      ],
      "text/plain": [
       "   fare_amount           pickup_datetime  pickup_longitude  pickup_latitude  \\\n",
       "0          7.3 2010-05-03 20:30:00+00:00        -73.976540        40.755760   \n",
       "1          8.5 2014-03-26 01:43:00+00:00        -73.973747        40.753689   \n",
       "2          8.1 2011-02-02 10:48:00+00:00        -73.980515        40.730530   \n",
       "3          6.5 2010-04-11 12:21:00+00:00        -73.987343        40.750443   \n",
       "4          9.7 2011-05-01 03:17:00+00:00        -73.977600        40.784275   \n",
       "\n",
       "   dropoff_longitude  dropoff_latitude  passenger_count  Distance is_weekday  \\\n",
       "0         -73.959457         40.763329                1  1.669421          1   \n",
       "1         -73.950821         40.782818                1  3.769673          1   \n",
       "2         -74.003616         40.722664                1  2.138240          1   \n",
       "3         -73.967255         40.761093                2  2.067965          0   \n",
       "4         -73.943748         40.793705                4  3.043036          0   \n",
       "\n",
       "   Month  Year     Time  hour  is_night_time  \n",
       "0      5  2010 20:30:00    20              0  \n",
       "1      3  2014 01:43:00     1              1  \n",
       "2      2  2011 10:48:00    10              0  \n",
       "3      4  2010 12:21:00    12              0  \n",
       "4      5  2011 03:17:00     3              1  "
      ]
     },
     "execution_count": 26,
     "metadata": {},
     "output_type": "execute_result"
    }
   ],
   "source": [
    "train_df.head(5)"
   ]
  },
  {
   "cell_type": "code",
   "execution_count": 27,
   "metadata": {},
   "outputs": [],
   "source": [
    "#drop columns which are not required\n",
    "train_df.drop(['pickup_datetime','Time'],axis=1,inplace=True)"
   ]
  },
  {
   "cell_type": "code",
   "execution_count": 28,
   "metadata": {},
   "outputs": [
    {
     "data": {
      "text/html": [
       "<div>\n",
       "<style scoped>\n",
       "    .dataframe tbody tr th:only-of-type {\n",
       "        vertical-align: middle;\n",
       "    }\n",
       "\n",
       "    .dataframe tbody tr th {\n",
       "        vertical-align: top;\n",
       "    }\n",
       "\n",
       "    .dataframe thead th {\n",
       "        text-align: right;\n",
       "    }\n",
       "</style>\n",
       "<table border=\"1\" class=\"dataframe\">\n",
       "  <thead>\n",
       "    <tr style=\"text-align: right;\">\n",
       "      <th></th>\n",
       "      <th>fare_amount</th>\n",
       "      <th>pickup_longitude</th>\n",
       "      <th>pickup_latitude</th>\n",
       "      <th>dropoff_longitude</th>\n",
       "      <th>dropoff_latitude</th>\n",
       "      <th>passenger_count</th>\n",
       "      <th>Distance</th>\n",
       "      <th>is_weekday</th>\n",
       "      <th>Month</th>\n",
       "      <th>Year</th>\n",
       "      <th>hour</th>\n",
       "      <th>is_night_time</th>\n",
       "    </tr>\n",
       "  </thead>\n",
       "  <tbody>\n",
       "    <tr>\n",
       "      <th>0</th>\n",
       "      <td>7.3</td>\n",
       "      <td>-73.976540</td>\n",
       "      <td>40.755760</td>\n",
       "      <td>-73.959457</td>\n",
       "      <td>40.763329</td>\n",
       "      <td>1</td>\n",
       "      <td>1.669421</td>\n",
       "      <td>1</td>\n",
       "      <td>5</td>\n",
       "      <td>2010</td>\n",
       "      <td>20</td>\n",
       "      <td>0</td>\n",
       "    </tr>\n",
       "    <tr>\n",
       "      <th>1</th>\n",
       "      <td>8.5</td>\n",
       "      <td>-73.973747</td>\n",
       "      <td>40.753689</td>\n",
       "      <td>-73.950821</td>\n",
       "      <td>40.782818</td>\n",
       "      <td>1</td>\n",
       "      <td>3.769673</td>\n",
       "      <td>1</td>\n",
       "      <td>3</td>\n",
       "      <td>2014</td>\n",
       "      <td>1</td>\n",
       "      <td>1</td>\n",
       "    </tr>\n",
       "    <tr>\n",
       "      <th>2</th>\n",
       "      <td>8.1</td>\n",
       "      <td>-73.980515</td>\n",
       "      <td>40.730530</td>\n",
       "      <td>-74.003616</td>\n",
       "      <td>40.722664</td>\n",
       "      <td>1</td>\n",
       "      <td>2.138240</td>\n",
       "      <td>1</td>\n",
       "      <td>2</td>\n",
       "      <td>2011</td>\n",
       "      <td>10</td>\n",
       "      <td>0</td>\n",
       "    </tr>\n",
       "    <tr>\n",
       "      <th>3</th>\n",
       "      <td>6.5</td>\n",
       "      <td>-73.987343</td>\n",
       "      <td>40.750443</td>\n",
       "      <td>-73.967255</td>\n",
       "      <td>40.761093</td>\n",
       "      <td>2</td>\n",
       "      <td>2.067965</td>\n",
       "      <td>0</td>\n",
       "      <td>4</td>\n",
       "      <td>2010</td>\n",
       "      <td>12</td>\n",
       "      <td>0</td>\n",
       "    </tr>\n",
       "    <tr>\n",
       "      <th>4</th>\n",
       "      <td>9.7</td>\n",
       "      <td>-73.977600</td>\n",
       "      <td>40.784275</td>\n",
       "      <td>-73.943748</td>\n",
       "      <td>40.793705</td>\n",
       "      <td>4</td>\n",
       "      <td>3.043036</td>\n",
       "      <td>0</td>\n",
       "      <td>5</td>\n",
       "      <td>2011</td>\n",
       "      <td>3</td>\n",
       "      <td>1</td>\n",
       "    </tr>\n",
       "  </tbody>\n",
       "</table>\n",
       "</div>"
      ],
      "text/plain": [
       "   fare_amount  pickup_longitude  pickup_latitude  dropoff_longitude  \\\n",
       "0          7.3        -73.976540        40.755760         -73.959457   \n",
       "1          8.5        -73.973747        40.753689         -73.950821   \n",
       "2          8.1        -73.980515        40.730530         -74.003616   \n",
       "3          6.5        -73.987343        40.750443         -73.967255   \n",
       "4          9.7        -73.977600        40.784275         -73.943748   \n",
       "\n",
       "   dropoff_latitude  passenger_count  Distance is_weekday  Month  Year  hour  \\\n",
       "0         40.763329                1  1.669421          1      5  2010    20   \n",
       "1         40.782818                1  3.769673          1      3  2014     1   \n",
       "2         40.722664                1  2.138240          1      2  2011    10   \n",
       "3         40.761093                2  2.067965          0      4  2010    12   \n",
       "4         40.793705                4  3.043036          0      5  2011     3   \n",
       "\n",
       "   is_night_time  \n",
       "0              0  \n",
       "1              1  \n",
       "2              0  \n",
       "3              0  \n",
       "4              1  "
      ]
     },
     "metadata": {},
     "output_type": "display_data"
    }
   ],
   "source": [
    "display(train_df.head(5))"
   ]
  },
  {
   "cell_type": "code",
   "execution_count": 29,
   "metadata": {},
   "outputs": [],
   "source": [
    "X = train_df.drop([\"fare_amount\"],axis=1)\n",
    "y = train_df.fare_amount"
   ]
  },
  {
   "cell_type": "code",
   "execution_count": 30,
   "metadata": {},
   "outputs": [],
   "source": [
    "X_train,X_test,y_train,y_test = model_selection.train_test_split(X,y,test_size = 0.25,random_state=42)"
   ]
  },
  {
   "cell_type": "code",
   "execution_count": 39,
   "metadata": {},
   "outputs": [
    {
     "name": "stdout",
     "output_type": "stream",
     "text": [
      "[ 6.24799135e-03  5.11809033e-02 -1.48856518e-02 -7.35858316e-02\n",
      "  8.46754608e-02  5.33236186e-04  1.07398909e-01  9.69292741e-02\n",
      "  6.33944928e-01 -2.86973376e-02  3.35410711e-01]\n",
      "-1264.186059152584\n",
      "9.79849739477781\n",
      "0.018640681719775287\n"
     ]
    }
   ],
   "source": [
    "lm.fit(X_train,y_train)\n",
    "print(lm.coef_)\n",
    "print(lm.intercept_)\n",
    "predict = lm.predict(X_test)\n",
    "print(sqrt(mean_squared_error(y_test,predict)))\n",
    "print(lm.score(X_test,y_test))"
   ]
  },
  {
   "cell_type": "code",
   "execution_count": 40,
   "metadata": {},
   "outputs": [
    {
     "data": {
      "text/plain": [
       "0.0466301673441609"
      ]
     },
     "execution_count": 40,
     "metadata": {},
     "output_type": "execute_result"
    }
   ],
   "source": [
    "ridgecv = RidgeCV(alphas = alphas, \n",
    "                  scoring = 'r2', \n",
    "                  normalize = True, cv = 5)\n",
    "\n",
    "ridgecv.fit(X_train, y_train)\n",
    "ridgecv.alpha_"
   ]
  },
  {
   "cell_type": "code",
   "execution_count": 41,
   "metadata": {},
   "outputs": [
    {
     "name": "stdout",
     "output_type": "stream",
     "text": [
      "9.799558668608936\n",
      "0.018428088436677315\n"
     ]
    }
   ],
   "source": [
    "ridge4 = Ridge(alpha = ridgecv.alpha_, solver='auto', normalize = True)\n",
    "ridge4.fit(X_train, y_train)\n",
    "ypred = ridge4.predict(X_test)\n",
    "print(sqrt(mean_squared_error(y_test,ypred)))\n",
    "print(r2_score(y_test,ypred))"
   ]
  },
  {
   "cell_type": "code",
   "execution_count": 42,
   "metadata": {},
   "outputs": [
    {
     "name": "stdout",
     "output_type": "stream",
     "text": [
      "9.890849834933753\n",
      "0.005\n",
      "5.4559848042590176e-05\n"
     ]
    }
   ],
   "source": [
    "from sklearn.linear_model import ElasticNet\n",
    "from sklearn.linear_model import ElasticNetCV\n",
    "Elasticcv = ElasticNetCV(alphas = alphas, cv = 10, max_iter = 100000, normalize = True)\n",
    "Elasticcv.fit(X_train, y_train)\n",
    "\n",
    "Elastic = ElasticNet(alpha=Elasticcv.alpha_, normalize=True, max_iter=100000)\n",
    "Elastic.fit(X_train, y_train)\n",
    "print(sqrt(mean_squared_error(y_test, Elastic.predict(X_test))))\n",
    "print(Elasticcv.alpha_)\n",
    "print(r2_score(y_test,Elastic.predict(X_test)))"
   ]
  },
  {
   "cell_type": "code",
   "execution_count": 43,
   "metadata": {},
   "outputs": [
    {
     "name": "stdout",
     "output_type": "stream",
     "text": [
      "Train Accuracy: 0.9614357403530787\n",
      "Test Accuracy: 0.7954811168643697\n",
      "Test RMSE: 4.473136616561182\n"
     ]
    }
   ],
   "source": [
    "# Fitting Random Forest Regression to the dataset \n",
    "# import the regressor \n",
    "from sklearn.ensemble import RandomForestRegressor \n",
    "  \n",
    " # create regressor object \n",
    "regressor = RandomForestRegressor(n_estimators = 100, random_state = 0) \n",
    "  \n",
    "# fit the regressor with x and y data \n",
    "regressor.fit(X_train, y_train)\n",
    "\n",
    "ypred = regressor.predict(X_test)\n",
    "print(\"Train Accuracy: \"+str(r2_score(y_train,regressor.predict(X_train))))\n",
    "print(\"Test Accuracy: \"+str(r2_score(y_test,ypred)))\n",
    "print(\"Test RMSE: \"+str(sqrt(mean_squared_error(y_test, ypred))))"
   ]
  },
  {
   "cell_type": "code",
   "execution_count": 44,
   "metadata": {},
   "outputs": [
    {
     "name": "stdout",
     "output_type": "stream",
     "text": [
      "{'n_estimators': [200, 400, 600, 800, 1000, 1200, 1400, 1600, 1800, 2000], 'max_features': ['auto', 'sqrt'], 'max_depth': [10, 20, 30, 40, 50, 60, 70, 80, 90, 100, 110, None], 'min_samples_split': [2, 5, 10], 'min_samples_leaf': [1, 2, 4], 'bootstrap': [True, False]}\n"
     ]
    }
   ],
   "source": [
    "# Number of trees in random forest\n",
    "n_estimators = [int(x) for x in np.linspace(start = 200, stop = 2000, num = 10)]\n",
    "# Number of features to consider at every split\n",
    "max_features = ['auto', 'sqrt']\n",
    "# Maximum number of levels in tree\n",
    "max_depth = [int(x) for x in np.linspace(10, 110, num = 11)]\n",
    "max_depth.append(None)\n",
    "# Minimum number of samples required to split a node\n",
    "min_samples_split = [2, 5, 10]\n",
    "# Minimum number of samples required at each leaf node\n",
    "min_samples_leaf = [1, 2, 4]\n",
    "# Method of selecting samples for training each tree\n",
    "bootstrap = [True, False]\n",
    "# Create the random grid\n",
    "random_grid = {'n_estimators': n_estimators,\n",
    "               'max_features': max_features,\n",
    "               'max_depth': max_depth,\n",
    "               'min_samples_split': min_samples_split,\n",
    "               'min_samples_leaf': min_samples_leaf,\n",
    "               'bootstrap': bootstrap}\n",
    "print(random_grid)"
   ]
  },
  {
   "cell_type": "code",
   "execution_count": null,
   "metadata": {},
   "outputs": [
    {
     "name": "stdout",
     "output_type": "stream",
     "text": [
      "Fitting 3 folds for each of 10 candidates, totalling 30 fits\n"
     ]
    },
    {
     "name": "stderr",
     "output_type": "stream",
     "text": [
      "[Parallel(n_jobs=-1)]: Using backend LokyBackend with 8 concurrent workers.\n"
     ]
    }
   ],
   "source": [
    "from sklearn.model_selection import RandomizedSearchCV\n",
    "# Use the random grid to search for best hyperparameters\n",
    "# First create the base model to tune\n",
    "rf = RandomForestRegressor()\n",
    "# Random search of parameters, using 3 fold cross validation, \n",
    "# search across 100 different combinations, and use all available cores\n",
    "rf_random = RandomizedSearchCV(estimator = rf, param_distributions = random_grid, n_iter = 10, cv = 3, verbose=2, random_state=42, n_jobs = -1)\n",
    "# Fit the random search model\n",
    "\n",
    "rf_random.fit(X_train, y_train)\n",
    "rf_random.best_params_"
   ]
  },
  {
   "cell_type": "code",
   "execution_count": 57,
   "metadata": {},
   "outputs": [
    {
     "name": "stdout",
     "output_type": "stream",
     "text": [
      "Train Accuracy: 0.9371317770700657\n",
      "Test Accuracy: 0.800609998538721\n",
      "4.4166923038965145\n"
     ]
    }
   ],
   "source": [
    "# create regressor object \n",
    "regressor = RandomForestRegressor(n_estimators = 400, min_samples_split = 10, min_samples_leaf = 1,\n",
    "                                  max_features=\"sqrt\", max_depth=60, bootstrap=False, random_state = 0) \n",
    "  \n",
    "# fit the regressor with x and y data \n",
    "regressor.fit(X_train, y_train)\n",
    "\n",
    "ypred = regressor.predict(X_test)\n",
    "print(\"Train Accuracy: \"+str(r2_score(y_train,regressor.predict(X_train))))\n",
    "print(\"Test Accuracy: \"+str(r2_score(y_test,ypred)))\n",
    "print(sqrt(mean_squared_error(y_test, ypred)))"
   ]
  },
  {
   "cell_type": "code",
   "execution_count": 58,
   "metadata": {},
   "outputs": [
    {
     "name": "stdout",
     "output_type": "stream",
     "text": [
      "[0.72449066 0.80100575 0.78963419 0.80932929 0.79445684]\n",
      "0.7837833456266008\n",
      "0.030374283165620842\n"
     ]
    }
   ],
   "source": [
    "from sklearn.model_selection import cross_val_score\n",
    "scores = cross_val_score(regressor, X, y, cv=5)\n",
    "print(scores)\n",
    "print(scores.mean())\n",
    "print(scores.std())"
   ]
  },
  {
   "cell_type": "markdown",
   "metadata": {},
   "source": [
    "# PCA"
   ]
  },
  {
   "cell_type": "code",
   "execution_count": 47,
   "metadata": {},
   "outputs": [],
   "source": [
    "from sklearn.preprocessing import MinMaxScaler\n",
    "scaler = MinMaxScaler()\n",
    "scaler.fit(X_train)\n",
    "X_train_scaled = scaler.transform(X_train)\n",
    "X_test_scaled  = scaler.transform(X_test)"
   ]
  },
  {
   "cell_type": "code",
   "execution_count": 48,
   "metadata": {},
   "outputs": [
    {
     "data": {
      "text/plain": [
       "(array([[0.0457777 , 0.77528163, 0.01588712, ..., 1.        , 0.60869565,\n",
       "         0.        ],\n",
       "        [0.04599953, 0.77552036, 0.016059  , ..., 0.5       , 1.        ,\n",
       "         1.        ],\n",
       "        [0.04565318, 0.77513026, 0.01574035, ..., 0.83333333, 0.47826087,\n",
       "         0.        ],\n",
       "        ...,\n",
       "        [0.04597233, 0.7753556 , 0.01628357, ..., 0.33333333, 0.86956522,\n",
       "         0.        ],\n",
       "        [0.04586791, 0.77531911, 0.01601617, ..., 0.16666667, 0.43478261,\n",
       "         0.        ],\n",
       "        [0.04598463, 0.7750527 , 0.01601179, ..., 1.        , 0.43478261,\n",
       "         0.        ]]),\n",
       " array([[0.04601139, 0.77552167, 0.0160452 , ..., 0.16666667, 0.60869565,\n",
       "         0.        ],\n",
       "        [0.04595471, 0.77545368, 0.01578873, ..., 0.33333333, 0.91304348,\n",
       "         0.        ],\n",
       "        [0.04604556, 0.77550958, 0.01592785, ..., 0.16666667, 0.56521739,\n",
       "         0.        ],\n",
       "        ...,\n",
       "        [0.04939117, 0.77502801, 0.01970655, ..., 0.        , 0.69565217,\n",
       "         0.        ],\n",
       "        [0.04597094, 0.77499206, 0.01614471, ..., 0.66666667, 0.7826087 ,\n",
       "         0.        ],\n",
       "        [0.04582334, 0.77541087, 0.01595825, ..., 1.        , 0.82608696,\n",
       "         0.        ]]))"
      ]
     },
     "execution_count": 48,
     "metadata": {},
     "output_type": "execute_result"
    }
   ],
   "source": [
    "X_train_scaled,X_test_scaled"
   ]
  },
  {
   "cell_type": "code",
   "execution_count": 49,
   "metadata": {},
   "outputs": [],
   "source": [
    "from sklearn.decomposition import PCA\n",
    "pca = PCA(n_components=0.95)\n",
    "pca.fit(X_train_scaled)\n",
    "X_train_pca = pca.transform(X_train_scaled)\n",
    "X_test_pca  = pca.transform(X_test_scaled)"
   ]
  },
  {
   "cell_type": "code",
   "execution_count": 50,
   "metadata": {},
   "outputs": [
    {
     "name": "stdout",
     "output_type": "stream",
     "text": [
      "(74996, 11) (24999, 11)\n",
      "(74996, 6) (24999, 6)\n"
     ]
    }
   ],
   "source": [
    "print(X_train_scaled.shape,X_test_scaled.shape)\n",
    "print(X_train_pca.shape,X_test_pca.shape)"
   ]
  },
  {
   "cell_type": "code",
   "execution_count": 51,
   "metadata": {},
   "outputs": [
    {
     "name": "stdout",
     "output_type": "stream",
     "text": [
      "Train Accuracy: 0.8452426452366977\n",
      "Test Accuracy: 0.19864131411938846\n",
      "8.854395780340951\n"
     ]
    }
   ],
   "source": [
    "# create regressor object \n",
    "regressor = RandomForestRegressor(n_estimators = 400, min_samples_split = 10, min_samples_leaf = 1,\n",
    "                                  max_features=\"sqrt\", max_depth=60, bootstrap=False, random_state = 0) \n",
    "  \n",
    "# fit the regressor with x and y data \n",
    "regressor.fit(X_train_pca, y_train)\n",
    "\n",
    "ypred = regressor.predict(X_test_pca)\n",
    "print(\"Train Accuracy: \"+str(r2_score(y_train,regressor.predict(X_train_pca))))\n",
    "print(\"Test Accuracy: \"+str(r2_score(y_test,ypred)))\n",
    "print(sqrt(mean_squared_error(y_test, ypred)))"
   ]
  },
  {
   "cell_type": "code",
   "execution_count": 52,
   "metadata": {},
   "outputs": [
    {
     "name": "stdout",
     "output_type": "stream",
     "text": [
      "Test Accuracy: 0.7965725321666739\n",
      "The mean squared error (MSE) on test set: 19.9022\n"
     ]
    }
   ],
   "source": [
    "from sklearn.ensemble import GradientBoostingRegressor\n",
    "reg = GradientBoostingRegressor(  n_estimators= 500,\n",
    "                                  max_depth= 4,\n",
    "                                  min_samples_split= 5,\n",
    "                                  learning_rate= 0.01,\n",
    "                                  loss= 'ls')\n",
    "reg.fit(X_train, y_train)\n",
    "ypred = reg.predict(X_test)\n",
    "mse = mean_squared_error(y_test, ypred)\n",
    "print(\"Test Accuracy: \"+str(r2_score(y_test,ypred)))\n",
    "print(\"The mean squared error (MSE) on test set: {:.4f}\".format(mse))"
   ]
  },
  {
   "cell_type": "code",
   "execution_count": 53,
   "metadata": {},
   "outputs": [
    {
     "name": "stdout",
     "output_type": "stream",
     "text": [
      "[0.71313967 0.78869132 0.7747355  0.79010235 0.77601391]\n",
      "0.768536550154663\n"
     ]
    }
   ],
   "source": [
    "scores = cross_val_score(reg, X, y, cv=5)\n",
    "print(scores)\n",
    "print(scores.mean())"
   ]
  },
  {
   "cell_type": "code",
   "execution_count": 56,
   "metadata": {},
   "outputs": [
    {
     "name": "stdout",
     "output_type": "stream",
     "text": [
      "0.02840581138695691\n"
     ]
    }
   ],
   "source": [
    "print(scores.std())"
   ]
  },
  {
   "cell_type": "code",
   "execution_count": 31,
   "metadata": {},
   "outputs": [],
   "source": [
    "X_train,X_test,y_train,y_test = model_selection.train_test_split(X,y,test_size = 0.25,random_state=42)"
   ]
  },
  {
   "cell_type": "code",
   "execution_count": 32,
   "metadata": {},
   "outputs": [
    {
     "name": "stderr",
     "output_type": "stream",
     "text": [
      "C:\\ProgramData\\Anaconda3\\lib\\site-packages\\pandas\\core\\generic.py:5303: SettingWithCopyWarning: \n",
      "A value is trying to be set on a copy of a slice from a DataFrame.\n",
      "Try using .loc[row_indexer,col_indexer] = value instead\n",
      "\n",
      "See the caveats in the documentation: https://pandas.pydata.org/pandas-docs/stable/user_guide/indexing.html#returning-a-view-versus-a-copy\n",
      "  self[name] = value\n"
     ]
    }
   ],
   "source": [
    "X_train.is_weekday = X_train.is_weekday.astype('int32')\n",
    "X_test.is_weekday = X_test.is_weekday.astype('int32')\n",
    "X.is_weekday = X.is_weekday.astype('int32')"
   ]
  },
  {
   "cell_type": "code",
   "execution_count": 33,
   "metadata": {},
   "outputs": [
    {
     "name": "stdout",
     "output_type": "stream",
     "text": [
      "Train Accuracy: 0.8367331753311893\n",
      "Test Accuracy: 0.7988486797236474\n",
      "The mean squared error (MSE) on test set: 20.0389\n"
     ]
    }
   ],
   "source": [
    "import xgboost\n",
    "model = xgboost.XGBRegressor(colsample_bytree=0.4,\n",
    "                 gamma=0,                 \n",
    "                 learning_rate=0.07,\n",
    "                 max_depth=3,\n",
    "                 min_child_weight=1.5,\n",
    "                 n_estimators=400,                                                                    \n",
    "                 reg_alpha=0.75,\n",
    "                 reg_lambda=0.45,\n",
    "                 subsample=0.6,\n",
    "                 seed=42) \n",
    "model.fit(X_train, y_train)\n",
    "ypred = model.predict(X_test)\n",
    "mse = mean_squared_error(y_test, ypred)\n",
    "print(\"Train Accuracy: \"+str(r2_score(y_train,model.predict(X_train))))\n",
    "print(\"Test Accuracy: \"+str(r2_score(y_test,ypred)))\n",
    "print(\"The mean squared error (MSE) on test set: {:.4f}\".format(mse))"
   ]
  },
  {
   "cell_type": "code",
   "execution_count": 36,
   "metadata": {},
   "outputs": [
    {
     "name": "stdout",
     "output_type": "stream",
     "text": [
      "[0.80695298 0.80982438 0.79964793 0.79721707 0.80314685]\n",
      "0.8033578443861555\n",
      "0.004609950151956818\n"
     ]
    }
   ],
   "source": [
    "scores = cross_val_score(model, X, y, cv=5)\n",
    "print(scores)\n",
    "print(scores.mean())\n",
    "print(scores.std())"
   ]
  },
  {
   "cell_type": "markdown",
   "metadata": {},
   "source": [
    "# Conclusion"
   ]
  },
  {
   "cell_type": "markdown",
   "metadata": {},
   "source": [
    "As we see, XGBoost gives us the best accuracy. We can furthur do some hyperparameter tuning and feature engineering to improve the accuracy."
   ]
  }
 ],
 "metadata": {
  "kernelspec": {
   "display_name": "Python 3",
   "language": "python",
   "name": "python3"
  },
  "language_info": {
   "codemirror_mode": {
    "name": "ipython",
    "version": 3
   },
   "file_extension": ".py",
   "mimetype": "text/x-python",
   "name": "python",
   "nbconvert_exporter": "python",
   "pygments_lexer": "ipython3",
   "version": "3.7.6"
  }
 },
 "nbformat": 4,
 "nbformat_minor": 4
}
